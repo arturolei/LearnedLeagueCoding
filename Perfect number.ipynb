{
 "cells": [
  {
   "cell_type": "markdown",
   "metadata": {},
   "source": [
    "# A Perfect Number\n",
    "\n",
    "Q1 MD7 of Season 76 of Learned League asked about perfect numbers. I vaguely recall having coded a simple program for determining if a given number is a perfect number. Thus inspired, after having pondered a solution somewhat, I decided to do a little recreational coding. \n",
    "\n",
    "I probably was mistaken. However, I came up with a two-bit* solution. \n",
    "\n",
    "*Not bits as in computing bits, bits as in the value/quality of the solution\n",
    "\n",
    "## Brief definition of a perfect number\n",
    "- A perfect number is an integer *n* such that n = sum of its divisors (not including the number itself)\n",
    "- Examples: 6 = 1+ 2+ 3\n",
    "\n",
    "## Brief outline of a solution:\n",
    "1) Given number x, determine divisors of x\n",
    "2) Sum divisors of x if x == x, we're good. \n",
    "\n",
    "## Quick Solution (Might not be highly readable)"
   ]
  },
  {
   "cell_type": "code",
   "execution_count": 9,
   "metadata": {},
   "outputs": [
    {
     "name": "stdout",
     "output_type": "stream",
     "text": [
      "[1, 2, 3]\n",
      "[1]\n"
     ]
    }
   ],
   "source": [
    "def find_divisors(num):\n",
    "    \"\"\"\n",
    "    Gives you divisors, assume num is integer not float or something else; returns an array of integers\n",
    "    \"\"\"\n",
    "    return [x for x in range(num) if x !=0 and num % x ==0] #not elegant solution given how I used boolean logic here\n",
    "\n",
    "print(find_divisors(6))\n",
    "print(find_divisors(17))"
   ]
  },
  {
   "cell_type": "code",
   "execution_count": 10,
   "metadata": {},
   "outputs": [
    {
     "name": "stdout",
     "output_type": "stream",
     "text": [
      "6 perfect number\n",
      "28 perfect number\n",
      "17 imperfect number\n",
      "33,550,336 perfect number\n"
     ]
    }
   ],
   "source": [
    "#Now given we have divisors, does sum of divisors equal a given num\n",
    "\n",
    "def perfect_num_status(num):\n",
    "    return \"perfect number\" if sum(find_divisors(num)) == num else \"imperfect number\"\n",
    "\n",
    "print(\"6\", perfect_num_status(6))\n",
    "print(\"28\", perfect_num_status(28))\n",
    "print(\"17\", perfect_num_status(17))\n",
    "print (\"33,550,336\", perfect_num_status(33550336)) #this will take a while"
   ]
  },
  {
   "cell_type": "markdown",
   "metadata": {},
   "source": [
    "Now for my favorite type of golf... CODE GOLF.... which like the other type of golf can be considered a waste of time since both code golf and actual golf can be at times prove costly (readability in the case of the former and affability in the case of latter)\n",
    "\n",
    "## An unreadable two-line solution:"
   ]
  },
  {
   "cell_type": "code",
   "execution_count": null,
   "metadata": {},
   "outputs": [
    {
     "name": "stdout",
     "output_type": "stream",
     "text": [
      "6 perfect number\n",
      "17 imperfect number\n"
     ]
    }
   ],
   "source": [
    "def perfect_num_status_compact(num):\n",
    "    \"\"\"\n",
    "    Returns 'perfect number' if num is perfect number. Code might be unreadable, uses generator expression\n",
    "    \"\"\"\n",
    "    return \"perfect number\" if sum((x for x in range(num) if x !=0 and num % x ==0)) == num else \"imperfect number\"\n",
    "\n",
    "print('6', perfect_num_status_compact(6))\n",
    "print('17', perfect_num_status_compact(17))\n",
    "print (\"33,550,336\", perfect_num_status(33550336)) #this will take a while"
   ]
  },
  {
   "cell_type": "markdown",
   "metadata": {},
   "source": [
    "# Reflections:\n",
    "\n",
    "Some features to be added:\n",
    "1. Better documentation; some of those docstrings aren't doing what docstrings are supposed to do\n",
    "2. Better approach; there is considerable slowdown if the number is ginormous. \n",
    "3. Better error handling; the above only work if input is number (did not test strings or floats)\n",
    "4. Better readability; code golf leads to compact code but not comprehensible code.\n",
    "5. Better naming; I need to review the Python standards again. "
   ]
  }
 ],
 "metadata": {
  "kernelspec": {
   "display_name": "Python 3",
   "language": "python",
   "name": "python3"
  },
  "language_info": {
   "codemirror_mode": {
    "name": "ipython",
    "version": 3
   },
   "file_extension": ".py",
   "mimetype": "text/x-python",
   "name": "python",
   "nbconvert_exporter": "python",
   "pygments_lexer": "ipython3",
   "version": "3.6.0"
  }
 },
 "nbformat": 4,
 "nbformat_minor": 2
}
